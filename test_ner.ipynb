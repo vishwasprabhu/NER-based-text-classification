{
 "cells": [
  {
   "cell_type": "markdown",
   "metadata": {},
   "source": [
    "# Named Entity Recognition (NER)\n",
    "\n",
    "Named Entity Recognition (NER) is an important  task in natural language processing. In this assignment you will implement a neural network model for NER.  In particular you will implement an approach called Sliding Window Neural Network. The dataset is composed of sentences. The dataframe already has each words parsed in one column and the corresponding label (entity) in the second column. We will build a \"window\" model, the idea on the window model is to use 5-word window to predict the name entity of the middle word. Here is the first observation in our data:"
   ]
  },
  {
   "cell_type": "code",
   "execution_count": 1,
   "metadata": {
    "ExecuteTime": {
     "end_time": "2022-03-04T08:30:56.873606Z",
     "start_time": "2022-03-04T08:30:56.840620Z"
    }
   },
   "outputs": [],
   "source": [
    "%load_ext autoreload\n",
    "%autoreload 2"
   ]
  },
  {
   "cell_type": "code",
   "execution_count": 2,
   "metadata": {
    "ExecuteTime": {
     "end_time": "2022-03-04T08:30:59.417467Z",
     "start_time": "2022-03-04T08:30:57.118034Z"
    }
   },
   "outputs": [],
   "source": [
    "from ner import *\n",
    "import pandas as pd\n",
    "from sklearn.model_selection import train_test_split"
   ]
  },
  {
   "cell_type": "code",
   "execution_count": 3,
   "metadata": {
    "ExecuteTime": {
     "end_time": "2022-03-04T08:30:59.537648Z",
     "start_time": "2022-03-04T08:30:59.418985Z"
    }
   },
   "outputs": [],
   "source": [
    "data = pd.read_csv(\"Genia4ERtask1.iob2\", sep=\"\\t\", header=None, names=[\"word\", \"label\"])"
   ]
  },
  {
   "cell_type": "code",
   "execution_count": 4,
   "metadata": {
    "ExecuteTime": {
     "end_time": "2022-03-04T08:30:59.564897Z",
     "start_time": "2022-03-04T08:30:59.538503Z"
    }
   },
   "outputs": [
    {
     "data": {
      "text/html": [
       "<div>\n",
       "<style scoped>\n",
       "    .dataframe tbody tr th:only-of-type {\n",
       "        vertical-align: middle;\n",
       "    }\n",
       "\n",
       "    .dataframe tbody tr th {\n",
       "        vertical-align: top;\n",
       "    }\n",
       "\n",
       "    .dataframe thead th {\n",
       "        text-align: right;\n",
       "    }\n",
       "</style>\n",
       "<table border=\"1\" class=\"dataframe\">\n",
       "  <thead>\n",
       "    <tr style=\"text-align: right;\">\n",
       "      <th></th>\n",
       "      <th>word</th>\n",
       "      <th>label</th>\n",
       "    </tr>\n",
       "  </thead>\n",
       "  <tbody>\n",
       "    <tr>\n",
       "      <th>0</th>\n",
       "      <td>IL-2</td>\n",
       "      <td>B-DNA</td>\n",
       "    </tr>\n",
       "    <tr>\n",
       "      <th>1</th>\n",
       "      <td>gene</td>\n",
       "      <td>I-DNA</td>\n",
       "    </tr>\n",
       "    <tr>\n",
       "      <th>2</th>\n",
       "      <td>expression</td>\n",
       "      <td>O</td>\n",
       "    </tr>\n",
       "    <tr>\n",
       "      <th>3</th>\n",
       "      <td>and</td>\n",
       "      <td>O</td>\n",
       "    </tr>\n",
       "    <tr>\n",
       "      <th>4</th>\n",
       "      <td>NF-kappa</td>\n",
       "      <td>B-protein</td>\n",
       "    </tr>\n",
       "  </tbody>\n",
       "</table>\n",
       "</div>"
      ],
      "text/plain": [
       "         word      label\n",
       "0        IL-2      B-DNA\n",
       "1        gene      I-DNA\n",
       "2  expression          O\n",
       "3         and          O\n",
       "4    NF-kappa  B-protein"
      ]
     },
     "execution_count": 4,
     "metadata": {},
     "output_type": "execute_result"
    }
   ],
   "source": [
    "data.head()"
   ]
  },
  {
   "cell_type": "code",
   "execution_count": 5,
   "metadata": {
    "ExecuteTime": {
     "end_time": "2022-03-04T08:30:59.589560Z",
     "start_time": "2022-03-04T08:30:59.566635Z"
    }
   },
   "outputs": [],
   "source": [
    "tiny_data = pd.read_csv(\"data/tiny.ner.train\", sep=\"\\t\", header=None, names=[\"word\", \"label\"])"
   ]
  },
  {
   "cell_type": "code",
   "execution_count": 6,
   "metadata": {
    "ExecuteTime": {
     "end_time": "2022-03-04T08:30:59.612441Z",
     "start_time": "2022-03-04T08:30:59.590358Z"
    }
   },
   "outputs": [
    {
     "data": {
      "text/html": [
       "<div>\n",
       "<style scoped>\n",
       "    .dataframe tbody tr th:only-of-type {\n",
       "        vertical-align: middle;\n",
       "    }\n",
       "\n",
       "    .dataframe tbody tr th {\n",
       "        vertical-align: top;\n",
       "    }\n",
       "\n",
       "    .dataframe thead th {\n",
       "        text-align: right;\n",
       "    }\n",
       "</style>\n",
       "<table border=\"1\" class=\"dataframe\">\n",
       "  <thead>\n",
       "    <tr style=\"text-align: right;\">\n",
       "      <th></th>\n",
       "      <th>word</th>\n",
       "      <th>label</th>\n",
       "    </tr>\n",
       "  </thead>\n",
       "  <tbody>\n",
       "    <tr>\n",
       "      <th>0</th>\n",
       "      <td>IL-2</td>\n",
       "      <td>B-DNA</td>\n",
       "    </tr>\n",
       "    <tr>\n",
       "      <th>1</th>\n",
       "      <td>gene</td>\n",
       "      <td>I-DNA</td>\n",
       "    </tr>\n",
       "    <tr>\n",
       "      <th>2</th>\n",
       "      <td>expression</td>\n",
       "      <td>O</td>\n",
       "    </tr>\n",
       "    <tr>\n",
       "      <th>3</th>\n",
       "      <td>and</td>\n",
       "      <td>O</td>\n",
       "    </tr>\n",
       "    <tr>\n",
       "      <th>4</th>\n",
       "      <td>NF-kappa</td>\n",
       "      <td>B-protein</td>\n",
       "    </tr>\n",
       "    <tr>\n",
       "      <th>...</th>\n",
       "      <td>...</td>\n",
       "      <td>...</td>\n",
       "    </tr>\n",
       "    <tr>\n",
       "      <th>92</th>\n",
       "      <td>to</td>\n",
       "      <td>O</td>\n",
       "    </tr>\n",
       "    <tr>\n",
       "      <th>93</th>\n",
       "      <td>involve</td>\n",
       "      <td>O</td>\n",
       "    </tr>\n",
       "    <tr>\n",
       "      <th>94</th>\n",
       "      <td>protein</td>\n",
       "      <td>B-protein</td>\n",
       "    </tr>\n",
       "    <tr>\n",
       "      <th>95</th>\n",
       "      <td>tyrosine</td>\n",
       "      <td>I-protein</td>\n",
       "    </tr>\n",
       "    <tr>\n",
       "      <th>96</th>\n",
       "      <td>kinase</td>\n",
       "      <td>I-protein</td>\n",
       "    </tr>\n",
       "  </tbody>\n",
       "</table>\n",
       "<p>97 rows × 2 columns</p>\n",
       "</div>"
      ],
      "text/plain": [
       "          word      label\n",
       "0         IL-2      B-DNA\n",
       "1         gene      I-DNA\n",
       "2   expression          O\n",
       "3          and          O\n",
       "4     NF-kappa  B-protein\n",
       "..         ...        ...\n",
       "92          to          O\n",
       "93     involve          O\n",
       "94     protein  B-protein\n",
       "95    tyrosine  I-protein\n",
       "96      kinase  I-protein\n",
       "\n",
       "[97 rows x 2 columns]"
      ]
     },
     "execution_count": 6,
     "metadata": {},
     "output_type": "execute_result"
    }
   ],
   "source": [
    "tiny_data"
   ]
  },
  {
   "cell_type": "markdown",
   "metadata": {},
   "source": [
    "The second observation is the 5 words starting with 'gene' and the label is the entity for the word 'and'. We have 5 features (categorical variables) which are words. We will use a word embedding to represent each value of the categorical features. For each observation, we concatenate the values of the 5 word embeddings for that observation. The vector of concatenated embeddings is feeded to a linear layer."
   ]
  },
  {
   "cell_type": "markdown",
   "metadata": {},
   "source": [
    "## Split dataset"
   ]
  },
  {
   "cell_type": "code",
   "execution_count": 7,
   "metadata": {
    "ExecuteTime": {
     "end_time": "2022-03-04T08:30:59.633714Z",
     "start_time": "2022-03-04T08:30:59.613428Z"
    }
   },
   "outputs": [
    {
     "data": {
      "text/plain": [
       "394040"
      ]
     },
     "execution_count": 7,
     "metadata": {},
     "output_type": "execute_result"
    }
   ],
   "source": [
    "N = int(data.shape[0]*0.8)\n",
    "N"
   ]
  },
  {
   "cell_type": "code",
   "execution_count": 8,
   "metadata": {
    "ExecuteTime": {
     "end_time": "2022-03-04T08:30:59.657101Z",
     "start_time": "2022-03-04T08:30:59.634627Z"
    }
   },
   "outputs": [],
   "source": [
    "train_df = data.iloc[:N,].copy()\n",
    "valid_df = data.iloc[N:,].copy()"
   ]
  },
  {
   "cell_type": "code",
   "execution_count": 9,
   "metadata": {
    "ExecuteTime": {
     "end_time": "2022-03-04T08:30:59.697587Z",
     "start_time": "2022-03-04T08:30:59.677458Z"
    }
   },
   "outputs": [
    {
     "data": {
      "text/plain": [
       "((394040, 2), (98511, 2))"
      ]
     },
     "execution_count": 9,
     "metadata": {},
     "output_type": "execute_result"
    }
   ],
   "source": [
    "train_df.shape, valid_df.shape"
   ]
  },
  {
   "cell_type": "markdown",
   "metadata": {},
   "source": [
    "## Word and label to index mapping"
   ]
  },
  {
   "cell_type": "code",
   "execution_count": 10,
   "metadata": {
    "ExecuteTime": {
     "end_time": "2022-03-04T08:31:00.563505Z",
     "start_time": "2022-03-04T08:31:00.301118Z"
    }
   },
   "outputs": [
    {
     "data": {
      "text/plain": [
       "['B-DNA',\n",
       " 'B-RNA',\n",
       " 'B-cell_line',\n",
       " 'B-cell_type',\n",
       " 'B-protein',\n",
       " 'I-DNA',\n",
       " 'I-RNA',\n",
       " 'I-cell_line',\n",
       " 'I-cell_type',\n",
       " 'I-protein',\n",
       " 'O']"
      ]
     },
     "execution_count": 10,
     "metadata": {},
     "output_type": "execute_result"
    }
   ],
   "source": [
    "sorted(set(list(train_df[\"label\"].values.astype('str'))))"
   ]
  },
  {
   "cell_type": "code",
   "execution_count": 11,
   "metadata": {
    "ExecuteTime": {
     "end_time": "2022-03-04T08:31:01.031615Z",
     "start_time": "2022-03-04T08:31:00.565612Z"
    }
   },
   "outputs": [],
   "source": [
    "vocab2index = label_encoding(train_df[\"word\"].values)\n",
    "label2index = label_encoding(train_df[\"label\"].values)"
   ]
  },
  {
   "cell_type": "code",
   "execution_count": 12,
   "metadata": {
    "ExecuteTime": {
     "end_time": "2022-03-04T08:31:01.063917Z",
     "start_time": "2022-03-04T08:31:01.032764Z"
    }
   },
   "outputs": [
    {
     "data": {
      "text/plain": [
       "11"
      ]
     },
     "execution_count": 12,
     "metadata": {},
     "output_type": "execute_result"
    }
   ],
   "source": [
    "len(label2index)"
   ]
  },
  {
   "cell_type": "code",
   "execution_count": 13,
   "metadata": {
    "ExecuteTime": {
     "end_time": "2022-03-04T08:31:01.310632Z",
     "start_time": "2022-03-04T08:31:01.265287Z"
    }
   },
   "outputs": [
    {
     "data": {
      "text/plain": [
       "{'B-DNA': 0,\n",
       " 'B-RNA': 1,\n",
       " 'B-cell_line': 2,\n",
       " 'B-cell_type': 3,\n",
       " 'B-protein': 4,\n",
       " 'I-DNA': 5,\n",
       " 'I-RNA': 6,\n",
       " 'I-cell_line': 7,\n",
       " 'I-cell_type': 8,\n",
       " 'I-protein': 9,\n",
       " 'O': 10}"
      ]
     },
     "execution_count": 13,
     "metadata": {},
     "output_type": "execute_result"
    }
   ],
   "source": [
    "label2index"
   ]
  },
  {
   "cell_type": "markdown",
   "metadata": {},
   "source": [
    "## Label Encoding categorical variables"
   ]
  },
  {
   "cell_type": "code",
   "execution_count": 34,
   "metadata": {
    "ExecuteTime": {
     "end_time": "2022-03-04T08:35:39.995139Z",
     "start_time": "2022-03-04T08:35:39.826106Z"
    },
    "scrolled": true
   },
   "outputs": [
    {
     "data": {
      "text/plain": [
       "97"
      ]
     },
     "execution_count": 34,
     "metadata": {},
     "output_type": "execute_result"
    }
   ],
   "source": [
    "len(tiny_data)"
   ]
  },
  {
   "cell_type": "code",
   "execution_count": 35,
   "metadata": {
    "ExecuteTime": {
     "end_time": "2022-03-04T08:35:40.578519Z",
     "start_time": "2022-03-04T08:35:40.521944Z"
    }
   },
   "outputs": [
    {
     "data": {
      "text/html": [
       "<div>\n",
       "<style scoped>\n",
       "    .dataframe tbody tr th:only-of-type {\n",
       "        vertical-align: middle;\n",
       "    }\n",
       "\n",
       "    .dataframe tbody tr th {\n",
       "        vertical-align: top;\n",
       "    }\n",
       "\n",
       "    .dataframe thead th {\n",
       "        text-align: right;\n",
       "    }\n",
       "</style>\n",
       "<table border=\"1\" class=\"dataframe\">\n",
       "  <thead>\n",
       "    <tr style=\"text-align: right;\">\n",
       "      <th></th>\n",
       "      <th>word</th>\n",
       "      <th>label</th>\n",
       "    </tr>\n",
       "  </thead>\n",
       "  <tbody>\n",
       "    <tr>\n",
       "      <th>0</th>\n",
       "      <td>IL-2</td>\n",
       "      <td>B-DNA</td>\n",
       "    </tr>\n",
       "    <tr>\n",
       "      <th>1</th>\n",
       "      <td>gene</td>\n",
       "      <td>I-DNA</td>\n",
       "    </tr>\n",
       "    <tr>\n",
       "      <th>2</th>\n",
       "      <td>expression</td>\n",
       "      <td>O</td>\n",
       "    </tr>\n",
       "    <tr>\n",
       "      <th>3</th>\n",
       "      <td>and</td>\n",
       "      <td>O</td>\n",
       "    </tr>\n",
       "    <tr>\n",
       "      <th>4</th>\n",
       "      <td>NF-kappa</td>\n",
       "      <td>B-protein</td>\n",
       "    </tr>\n",
       "    <tr>\n",
       "      <th>...</th>\n",
       "      <td>...</td>\n",
       "      <td>...</td>\n",
       "    </tr>\n",
       "    <tr>\n",
       "      <th>92</th>\n",
       "      <td>to</td>\n",
       "      <td>O</td>\n",
       "    </tr>\n",
       "    <tr>\n",
       "      <th>93</th>\n",
       "      <td>involve</td>\n",
       "      <td>O</td>\n",
       "    </tr>\n",
       "    <tr>\n",
       "      <th>94</th>\n",
       "      <td>protein</td>\n",
       "      <td>B-protein</td>\n",
       "    </tr>\n",
       "    <tr>\n",
       "      <th>95</th>\n",
       "      <td>tyrosine</td>\n",
       "      <td>I-protein</td>\n",
       "    </tr>\n",
       "    <tr>\n",
       "      <th>96</th>\n",
       "      <td>kinase</td>\n",
       "      <td>I-protein</td>\n",
       "    </tr>\n",
       "  </tbody>\n",
       "</table>\n",
       "<p>97 rows × 2 columns</p>\n",
       "</div>"
      ],
      "text/plain": [
       "          word      label\n",
       "0         IL-2      B-DNA\n",
       "1         gene      I-DNA\n",
       "2   expression          O\n",
       "3          and          O\n",
       "4     NF-kappa  B-protein\n",
       "..         ...        ...\n",
       "92          to          O\n",
       "93     involve          O\n",
       "94     protein  B-protein\n",
       "95    tyrosine  I-protein\n",
       "96      kinase  I-protein\n",
       "\n",
       "[97 rows x 2 columns]"
      ]
     },
     "execution_count": 35,
     "metadata": {},
     "output_type": "execute_result"
    }
   ],
   "source": [
    "tiny_data"
   ]
  },
  {
   "cell_type": "code",
   "execution_count": 36,
   "metadata": {
    "ExecuteTime": {
     "end_time": "2022-03-04T08:35:42.002776Z",
     "start_time": "2022-03-04T08:35:41.946457Z"
    }
   },
   "outputs": [],
   "source": [
    "tiny_vocab2index = label_encoding(tiny_data[\"word\"].values)\n",
    "tiny_label2index = label_encoding(tiny_data[\"label\"].values)\n",
    "tiny_data_enc = dataset_encoding(tiny_data, tiny_vocab2index, tiny_label2index)"
   ]
  },
  {
   "cell_type": "code",
   "execution_count": 37,
   "metadata": {
    "ExecuteTime": {
     "end_time": "2022-03-04T08:35:43.525920Z",
     "start_time": "2022-03-04T08:35:43.471886Z"
    }
   },
   "outputs": [],
   "source": [
    "actual = np.array([17, 53, 31, 25, 44, 41, 32,  0, 11,  1])\n",
    "assert(np.array_equal(tiny_data_enc.iloc[30:40].word.values, actual))"
   ]
  },
  {
   "cell_type": "markdown",
   "metadata": {},
   "source": [
    "## Dataset definition"
   ]
  },
  {
   "cell_type": "code",
   "execution_count": 38,
   "metadata": {
    "ExecuteTime": {
     "end_time": "2022-03-04T08:35:49.136376Z",
     "start_time": "2022-03-04T08:35:49.084617Z"
    }
   },
   "outputs": [
    {
     "data": {
      "text/html": [
       "<div>\n",
       "<style scoped>\n",
       "    .dataframe tbody tr th:only-of-type {\n",
       "        vertical-align: middle;\n",
       "    }\n",
       "\n",
       "    .dataframe tbody tr th {\n",
       "        vertical-align: top;\n",
       "    }\n",
       "\n",
       "    .dataframe thead th {\n",
       "        text-align: right;\n",
       "    }\n",
       "</style>\n",
       "<table border=\"1\" class=\"dataframe\">\n",
       "  <thead>\n",
       "    <tr style=\"text-align: right;\">\n",
       "      <th></th>\n",
       "      <th>word</th>\n",
       "      <th>label</th>\n",
       "    </tr>\n",
       "  </thead>\n",
       "  <tbody>\n",
       "    <tr>\n",
       "      <th>0</th>\n",
       "      <td>11</td>\n",
       "      <td>0</td>\n",
       "    </tr>\n",
       "    <tr>\n",
       "      <th>1</th>\n",
       "      <td>30</td>\n",
       "      <td>3</td>\n",
       "    </tr>\n",
       "    <tr>\n",
       "      <th>2</th>\n",
       "      <td>26</td>\n",
       "      <td>6</td>\n",
       "    </tr>\n",
       "    <tr>\n",
       "      <th>3</th>\n",
       "      <td>18</td>\n",
       "      <td>6</td>\n",
       "    </tr>\n",
       "    <tr>\n",
       "      <th>4</th>\n",
       "      <td>13</td>\n",
       "      <td>2</td>\n",
       "    </tr>\n",
       "    <tr>\n",
       "      <th>...</th>\n",
       "      <td>...</td>\n",
       "      <td>...</td>\n",
       "    </tr>\n",
       "    <tr>\n",
       "      <th>92</th>\n",
       "      <td>61</td>\n",
       "      <td>6</td>\n",
       "    </tr>\n",
       "    <tr>\n",
       "      <th>93</th>\n",
       "      <td>35</td>\n",
       "      <td>6</td>\n",
       "    </tr>\n",
       "    <tr>\n",
       "      <th>94</th>\n",
       "      <td>46</td>\n",
       "      <td>2</td>\n",
       "    </tr>\n",
       "    <tr>\n",
       "      <th>95</th>\n",
       "      <td>62</td>\n",
       "      <td>5</td>\n",
       "    </tr>\n",
       "    <tr>\n",
       "      <th>96</th>\n",
       "      <td>36</td>\n",
       "      <td>5</td>\n",
       "    </tr>\n",
       "  </tbody>\n",
       "</table>\n",
       "<p>97 rows × 2 columns</p>\n",
       "</div>"
      ],
      "text/plain": [
       "    word  label\n",
       "0     11      0\n",
       "1     30      3\n",
       "2     26      6\n",
       "3     18      6\n",
       "4     13      2\n",
       "..   ...    ...\n",
       "92    61      6\n",
       "93    35      6\n",
       "94    46      2\n",
       "95    62      5\n",
       "96    36      5\n",
       "\n",
       "[97 rows x 2 columns]"
      ]
     },
     "execution_count": 38,
     "metadata": {},
     "output_type": "execute_result"
    }
   ],
   "source": [
    "tiny_data_enc"
   ]
  },
  {
   "cell_type": "code",
   "execution_count": 39,
   "metadata": {
    "ExecuteTime": {
     "end_time": "2022-03-04T08:35:49.634680Z",
     "start_time": "2022-03-04T08:35:49.583042Z"
    }
   },
   "outputs": [],
   "source": [
    "tiny_ds = NERDataset(tiny_data_enc)"
   ]
  },
  {
   "cell_type": "code",
   "execution_count": 40,
   "metadata": {
    "ExecuteTime": {
     "end_time": "2022-03-04T08:35:50.191001Z",
     "start_time": "2022-03-04T08:35:50.138616Z"
    }
   },
   "outputs": [
    {
     "data": {
      "text/plain": [
       "93"
      ]
     },
     "execution_count": 40,
     "metadata": {},
     "output_type": "execute_result"
    }
   ],
   "source": [
    "len(tiny_ds)"
   ]
  },
  {
   "cell_type": "code",
   "execution_count": 42,
   "metadata": {
    "ExecuteTime": {
     "end_time": "2022-03-04T08:36:19.662131Z",
     "start_time": "2022-03-04T08:36:19.575449Z"
    }
   },
   "outputs": [],
   "source": [
    "x, y = tiny_ds[0]\n",
    "assert(np.array_equal(x, np.array([11, 30, 26, 18, 13])))\n",
    "assert(y == 6)\n",
    "assert(len(tiny_ds) == 93)"
   ]
  },
  {
   "cell_type": "code",
   "execution_count": 43,
   "metadata": {
    "ExecuteTime": {
     "end_time": "2022-03-04T08:36:22.099662Z",
     "start_time": "2022-03-04T08:36:22.049336Z"
    }
   },
   "outputs": [
    {
     "data": {
      "text/plain": [
       "array([11, 30, 26, 18, 13])"
      ]
     },
     "execution_count": 43,
     "metadata": {},
     "output_type": "execute_result"
    }
   ],
   "source": [
    "x"
   ]
  },
  {
   "cell_type": "markdown",
   "metadata": {},
   "source": [
    "## Testing"
   ]
  },
  {
   "cell_type": "code",
   "execution_count": 23,
   "metadata": {
    "ExecuteTime": {
     "end_time": "2022-03-04T08:31:07.683516Z",
     "start_time": "2022-03-04T08:31:07.523429Z"
    }
   },
   "outputs": [],
   "source": [
    "# encoding datasets\n",
    "train_df_enc = dataset_encoding(train_df, vocab2index, label2index)\n",
    "valid_df_enc = dataset_encoding(valid_df, vocab2index, label2index)"
   ]
  },
  {
   "cell_type": "code",
   "execution_count": 24,
   "metadata": {
    "ExecuteTime": {
     "end_time": "2022-03-04T08:31:08.004095Z",
     "start_time": "2022-03-04T08:31:07.971216Z"
    }
   },
   "outputs": [],
   "source": [
    "# creating datasets\n",
    "train_ds =  NERDataset(train_df_enc)\n",
    "valid_ds = NERDataset(valid_df_enc)\n",
    "\n",
    "# dataloaders\n",
    "batch_size = 10000\n",
    "train_dl = DataLoader(train_ds, batch_size=batch_size, shuffle=True)\n",
    "valid_dl = DataLoader(valid_ds, batch_size=batch_size)"
   ]
  },
  {
   "cell_type": "code",
   "execution_count": 74,
   "metadata": {
    "ExecuteTime": {
     "end_time": "2022-03-04T17:54:37.762092Z",
     "start_time": "2022-03-04T17:53:36.477535Z"
    }
   },
   "outputs": [
    {
     "name": "stdout",
     "output_type": "stream",
     "text": [
      "train loss  0.752 val loss 0.403 and accuracy 0.877\n",
      "train loss  0.318 val loss 0.329 and accuracy 0.898\n",
      "train loss  0.250 val loss 0.303 and accuracy 0.906\n",
      "train loss  0.217 val loss 0.295 and accuracy 0.908\n",
      "train loss  0.196 val loss 0.283 and accuracy 0.911\n",
      "train loss  0.180 val loss 0.291 and accuracy 0.909\n",
      "train loss  0.170 val loss 0.306 and accuracy 0.908\n",
      "train loss  0.162 val loss 0.302 and accuracy 0.909\n",
      "train loss  0.156 val loss 0.302 and accuracy 0.908\n",
      "train loss  0.151 val loss 0.317 and accuracy 0.907\n"
     ]
    }
   ],
   "source": [
    "vocab_size = len(vocab2index)+1\n",
    "n_class = len(label2index)\n",
    "emb_size = 100\n",
    "\n",
    "model = NERModel(vocab_size, n_class, emb_size)\n",
    "optimizer = get_optimizer(model, lr = 0.01, wd = 1e-5)\n",
    "train_model(model, optimizer, train_dl, valid_dl, epochs=10)"
   ]
  },
  {
   "cell_type": "code",
   "execution_count": 75,
   "metadata": {
    "ExecuteTime": {
     "end_time": "2022-03-04T17:57:32.622039Z",
     "start_time": "2022-03-04T17:56:32.637676Z"
    }
   },
   "outputs": [
    {
     "name": "stdout",
     "output_type": "stream",
     "text": [
      "train loss  0.134 val loss 0.301 and accuracy 0.911\n",
      "train loss  0.129 val loss 0.301 and accuracy 0.911\n",
      "train loss  0.126 val loss 0.301 and accuracy 0.911\n",
      "train loss  0.125 val loss 0.301 and accuracy 0.911\n",
      "train loss  0.123 val loss 0.305 and accuracy 0.910\n",
      "train loss  0.122 val loss 0.306 and accuracy 0.910\n",
      "train loss  0.121 val loss 0.307 and accuracy 0.910\n",
      "train loss  0.120 val loss 0.309 and accuracy 0.910\n",
      "train loss  0.119 val loss 0.306 and accuracy 0.910\n",
      "train loss  0.118 val loss 0.311 and accuracy 0.910\n"
     ]
    }
   ],
   "source": [
    "optimizer = get_optimizer(model, lr = 0.001, wd = 1e-5)\n",
    "train_model(model, optimizer, train_dl, valid_dl, epochs=10)"
   ]
  },
  {
   "cell_type": "code",
   "execution_count": 76,
   "metadata": {
    "ExecuteTime": {
     "end_time": "2022-03-04T17:58:32.929955Z",
     "start_time": "2022-03-04T17:58:31.686937Z"
    }
   },
   "outputs": [],
   "source": [
    "valid_loss, valid_acc = valid_metrics(model, valid_dl)"
   ]
  },
  {
   "cell_type": "code",
   "execution_count": 77,
   "metadata": {
    "ExecuteTime": {
     "end_time": "2022-03-04T17:58:34.352561Z",
     "start_time": "2022-03-04T17:58:34.297506Z"
    }
   },
   "outputs": [
    {
     "data": {
      "text/plain": [
       "(0.3111495554447174, 0.9096815454739257)"
      ]
     },
     "execution_count": 77,
     "metadata": {},
     "output_type": "execute_result"
    }
   ],
   "source": [
    "valid_loss, valid_acc"
   ]
  },
  {
   "cell_type": "code",
   "execution_count": 78,
   "metadata": {
    "ExecuteTime": {
     "end_time": "2022-03-04T17:58:35.744458Z",
     "start_time": "2022-03-04T17:58:35.691045Z"
    }
   },
   "outputs": [],
   "source": [
    "assert(np.abs(valid_loss - 0.3) < 0.02)"
   ]
  },
  {
   "cell_type": "code",
   "execution_count": 79,
   "metadata": {
    "ExecuteTime": {
     "end_time": "2022-03-04T17:58:36.321202Z",
     "start_time": "2022-03-04T17:58:36.270319Z"
    }
   },
   "outputs": [],
   "source": [
    "assert(np.abs(valid_acc - 0.9) < 0.01)"
   ]
  },
  {
   "cell_type": "code",
   "execution_count": null,
   "metadata": {},
   "outputs": [],
   "source": []
  }
 ],
 "metadata": {
  "kernelspec": {
   "display_name": "Python 3 (ipykernel)",
   "language": "python",
   "name": "python3"
  },
  "language_info": {
   "codemirror_mode": {
    "name": "ipython",
    "version": 3
   },
   "file_extension": ".py",
   "mimetype": "text/x-python",
   "name": "python",
   "nbconvert_exporter": "python",
   "pygments_lexer": "ipython3",
   "version": "3.9.7"
  }
 },
 "nbformat": 4,
 "nbformat_minor": 2
}
